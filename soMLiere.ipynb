{
  "nbformat": 4,
  "nbformat_minor": 0,
  "metadata": {
    "colab": {
      "name": "soMLiere.ipynb",
      "provenance": [],
      "collapsed_sections": [],
      "authorship_tag": "ABX9TyNqI/CBhhECb/k4qibp0ycd",
      "include_colab_link": true
    },
    "kernelspec": {
      "name": "python3",
      "display_name": "Python 3"
    },
    "language_info": {
      "name": "python"
    }
  },
  "cells": [
    {
      "cell_type": "markdown",
      "metadata": {
        "id": "view-in-github",
        "colab_type": "text"
      },
      "source": [
        "<a href=\"https://colab.research.google.com/github/Ismael-Barajas/somliere/blob/ml/soMLiere.ipynb\" target=\"_parent\"><img src=\"https://colab.research.google.com/assets/colab-badge.svg\" alt=\"Open In Colab\"/></a>"
      ]
    },
    {
      "cell_type": "code",
      "metadata": {
        "colab": {
          "base_uri": "https://localhost:8080/",
          "height": 293
        },
        "id": "oKYnssYDsc9C",
        "outputId": "926356c9-305f-4c34-d451-3642231f6113"
      },
      "source": [
        "import numpy as np\n",
        "import matplotlib.pyplot as plt\n",
        "from numpy.linalg import inv\n",
        "from IPython.display import Markdown as md\n",
        "\n",
        "import sklearn as sk\n",
        "import pandas as pd\n",
        "from sklearn.model_selection import train_test_split\n",
        "from sklearn.naive_bayes import CategoricalNB\n",
        "from sklearn.naive_bayes import GaussianNB\n",
        "from sklearn.neighbors import KNeighborsClassifier\n",
        "from sklearn.metrics import confusion_matrix\n",
        "from sklearn.metrics import roc_auc_score\n",
        "\n",
        "from google.colab import drive\n",
        "drive.mount('/content/drive')\n",
        "\n",
        "\n",
        "data = pd.read_csv('drive/My Drive/Colab Notebooks/data.csv', delimiter=',')\n",
        "print(\"We examine the first 5 rows of our dataset.\\nData:\\n\")\n",
        "data.head(5)\n",
        "\n"
      ],
      "execution_count": 14,
      "outputs": [
        {
          "output_type": "stream",
          "name": "stdout",
          "text": [
            "Drive already mounted at /content/drive; to attempt to forcibly remount, call drive.mount(\"/content/drive\", force_remount=True).\n",
            "We examine the first 5 rows of our dataset.\n",
            "Data:\n",
            "\n"
          ]
        },
        {
          "output_type": "execute_result",
          "data": {
            "text/html": [
              "<div>\n",
              "<style scoped>\n",
              "    .dataframe tbody tr th:only-of-type {\n",
              "        vertical-align: middle;\n",
              "    }\n",
              "\n",
              "    .dataframe tbody tr th {\n",
              "        vertical-align: top;\n",
              "    }\n",
              "\n",
              "    .dataframe thead th {\n",
              "        text-align: right;\n",
              "    }\n",
              "</style>\n",
              "<table border=\"1\" class=\"dataframe\">\n",
              "  <thead>\n",
              "    <tr style=\"text-align: right;\">\n",
              "      <th></th>\n",
              "      <th>type</th>\n",
              "      <th>fixed acidity</th>\n",
              "      <th>volatile acidity</th>\n",
              "      <th>citric acid</th>\n",
              "      <th>residual sugar</th>\n",
              "      <th>chlorides</th>\n",
              "      <th>free sulfur dioxide</th>\n",
              "      <th>total sulfur dioxide</th>\n",
              "      <th>density</th>\n",
              "      <th>pH</th>\n",
              "      <th>sulphates</th>\n",
              "      <th>alcohol</th>\n",
              "      <th>quality</th>\n",
              "    </tr>\n",
              "  </thead>\n",
              "  <tbody>\n",
              "    <tr>\n",
              "      <th>0</th>\n",
              "      <td>white</td>\n",
              "      <td>7.0</td>\n",
              "      <td>0.27</td>\n",
              "      <td>0.36</td>\n",
              "      <td>20.7</td>\n",
              "      <td>0.045</td>\n",
              "      <td>45.0</td>\n",
              "      <td>170.0</td>\n",
              "      <td>1.0010</td>\n",
              "      <td>3.00</td>\n",
              "      <td>0.45</td>\n",
              "      <td>8.8</td>\n",
              "      <td>6</td>\n",
              "    </tr>\n",
              "    <tr>\n",
              "      <th>1</th>\n",
              "      <td>white</td>\n",
              "      <td>6.3</td>\n",
              "      <td>0.30</td>\n",
              "      <td>0.34</td>\n",
              "      <td>1.6</td>\n",
              "      <td>0.049</td>\n",
              "      <td>14.0</td>\n",
              "      <td>132.0</td>\n",
              "      <td>0.9940</td>\n",
              "      <td>3.30</td>\n",
              "      <td>0.49</td>\n",
              "      <td>9.5</td>\n",
              "      <td>6</td>\n",
              "    </tr>\n",
              "    <tr>\n",
              "      <th>2</th>\n",
              "      <td>white</td>\n",
              "      <td>8.1</td>\n",
              "      <td>0.28</td>\n",
              "      <td>0.40</td>\n",
              "      <td>6.9</td>\n",
              "      <td>0.050</td>\n",
              "      <td>30.0</td>\n",
              "      <td>97.0</td>\n",
              "      <td>0.9951</td>\n",
              "      <td>3.26</td>\n",
              "      <td>0.44</td>\n",
              "      <td>10.1</td>\n",
              "      <td>6</td>\n",
              "    </tr>\n",
              "    <tr>\n",
              "      <th>3</th>\n",
              "      <td>white</td>\n",
              "      <td>7.2</td>\n",
              "      <td>0.23</td>\n",
              "      <td>0.32</td>\n",
              "      <td>8.5</td>\n",
              "      <td>0.058</td>\n",
              "      <td>47.0</td>\n",
              "      <td>186.0</td>\n",
              "      <td>0.9956</td>\n",
              "      <td>3.19</td>\n",
              "      <td>0.40</td>\n",
              "      <td>9.9</td>\n",
              "      <td>6</td>\n",
              "    </tr>\n",
              "    <tr>\n",
              "      <th>4</th>\n",
              "      <td>white</td>\n",
              "      <td>7.2</td>\n",
              "      <td>0.23</td>\n",
              "      <td>0.32</td>\n",
              "      <td>8.5</td>\n",
              "      <td>0.058</td>\n",
              "      <td>47.0</td>\n",
              "      <td>186.0</td>\n",
              "      <td>0.9956</td>\n",
              "      <td>3.19</td>\n",
              "      <td>0.40</td>\n",
              "      <td>9.9</td>\n",
              "      <td>6</td>\n",
              "    </tr>\n",
              "  </tbody>\n",
              "</table>\n",
              "</div>"
            ],
            "text/plain": [
              "    type  fixed acidity  volatile acidity  ...  sulphates  alcohol  quality\n",
              "0  white            7.0              0.27  ...       0.45      8.8        6\n",
              "1  white            6.3              0.30  ...       0.49      9.5        6\n",
              "2  white            8.1              0.28  ...       0.44     10.1        6\n",
              "3  white            7.2              0.23  ...       0.40      9.9        6\n",
              "4  white            7.2              0.23  ...       0.40      9.9        6\n",
              "\n",
              "[5 rows x 13 columns]"
            ]
          },
          "metadata": {},
          "execution_count": 14
        }
      ]
    },
    {
      "cell_type": "code",
      "metadata": {
        "id": "VHSQdppLtl7y",
        "colab": {
          "base_uri": "https://localhost:8080/"
        },
        "outputId": "f5cba79b-22aa-43ae-a8f1-05f908eee4fc"
      },
      "source": [
        "#train_add_y = pd.concat([train_df, y_train], axis= 1)\n",
        "counts = data.type.value_counts().to_dict()\n",
        "print(\"Number of red and white values from all data originally:\\n\", counts)\n",
        "\n",
        "data = data.dropna(axis= 0, how= 'any')\n",
        "\n",
        "counts = data.type.value_counts().to_dict()\n",
        "print(\"Number of red and white values from all data after drop NA:\\n\", counts)\n",
        "\n",
        "#binary_data = data.where(cond= type=='white')\n",
        "binary_data = data.replace({'white':1, 'red':0})\n",
        "counts = binary_data.type.value_counts().to_dict()\n",
        "print(\"Number of wine type 1 and 0 values from all data after binary encoding:\\n\", counts)\n",
        "\n",
        "\n"
      ],
      "execution_count": 16,
      "outputs": [
        {
          "output_type": "stream",
          "name": "stdout",
          "text": [
            "Number of red and white values from all data originally:\n",
            " {'white': 4898, 'red': 1599}\n",
            "Number of red and white values from all data after drop NA:\n",
            " {'white': 4870, 'red': 1593}\n",
            "Number of wine type 1 and 0 values from all data after binary encoding:\n",
            " {1: 4870, 0: 1593}\n"
          ]
        }
      ]
    },
    {
      "cell_type": "code",
      "metadata": {
        "colab": {
          "base_uri": "https://localhost:8080/"
        },
        "id": "lGQE-WhfJ6Yr",
        "outputId": "deb02141-87d0-45db-ce32-04ac9c06fd97"
      },
      "source": [
        "white_mask = binary_data['type'] == 1\n",
        "w_data = binary_data[white_mask]\n",
        "r_data = binary_data[~white_mask]\n",
        "\n",
        "counts = w_data.type.value_counts().to_dict()\n",
        "print(\"Number of red0 and white1 values from w_data after type split:\\n\", counts)\n",
        "counts = r_data.type.value_counts().to_dict()\n",
        "print(\"Number of red0 and white1 values from r_data after type split:\\n\", counts)"
      ],
      "execution_count": 18,
      "outputs": [
        {
          "output_type": "stream",
          "name": "stdout",
          "text": [
            "Number of red0 and white1 values from w_data after type split:\n",
            " {1: 4870}\n",
            "Number of red0 and white1 values from r_data after type split:\n",
            " {0: 1593}\n"
          ]
        }
      ]
    },
    {
      "cell_type": "code",
      "metadata": {
        "colab": {
          "base_uri": "https://localhost:8080/"
        },
        "id": "xJMcDoo2J0OE",
        "outputId": "e9e5f37f-224b-4542-adc3-47e37d087913"
      },
      "source": [
        "\n",
        "w_train, w_test = train_test_split(w_data, test_size=0.3, train_size=0.7, random_state=(2021-10-25), shuffle=True, stratify=None)\n",
        "r_train, r_test = train_test_split(r_data, test_size=0.3, train_size=0.7, random_state=(2021-10-25), shuffle=True, stratify=None)\n",
        "\n",
        "\n",
        "y_w_test = w_test.pop('quality')\n",
        "y_w_train = w_train.pop('quality')\n",
        "y_r_test = r_test.pop('quality')\n",
        "y_r_train = r_train.pop('quality')\n",
        "\n",
        "#print(w_test, \"\\n\", y_w_test)"
      ],
      "execution_count": 28,
      "outputs": [
        {
          "output_type": "stream",
          "name": "stdout",
          "text": [
            "      type  fixed acidity  volatile acidity  ...    pH  sulphates  alcohol\n",
            "3961     1            7.6             0.390  ...  2.91       0.51     9.00\n",
            "3654     1            6.8             0.180  ...  3.42       0.44    10.40\n",
            "1910     1            6.6             0.250  ...  3.08       0.42     9.20\n",
            "2061     1            6.7             0.230  ...  3.32       0.40    10.80\n",
            "2243     1            6.7             0.230  ...  3.54       0.74    10.40\n",
            "...    ...            ...               ...  ...   ...        ...      ...\n",
            "1110     1            7.2             0.370  ...  3.30       0.59    12.60\n",
            "2472     1            8.8             0.240  ...  3.13       0.40    10.70\n",
            "4733     1            5.2             0.185  ...  3.55       0.44    10.15\n",
            "4129     1            6.3             0.340  ...  3.22       0.29    13.40\n",
            "3479     1            5.9             0.320  ...  3.22       0.57    13.10\n",
            "\n",
            "[1461 rows x 12 columns] \n",
            " 3961    5\n",
            "3654    6\n",
            "1910    5\n",
            "2061    6\n",
            "2243    5\n",
            "       ..\n",
            "1110    7\n",
            "2472    6\n",
            "4733    6\n",
            "4129    7\n",
            "3479    7\n",
            "Name: quality, Length: 1461, dtype: int64\n"
          ]
        }
      ]
    },
    {
      "cell_type": "markdown",
      "metadata": {
        "id": "gjPSea7iwxNp"
      },
      "source": [
        "\n",
        "print (np.hstack((xvalues,yvalues[:, np.newaxis])))\n",
        "Xtrain = np.hstack((np.ones_like(xtrain), xtrain))\n",
        "Xtrain = np.delete(Xtrain, 0, 1)\n",
        "weights = np.linalg.inv(Xtrain.transpose().dot(Xtrain)).dot(Xtrain.transpose()).dot(ytrain)\n",
        "\n",
        "test"
      ]
    }
  ]
}